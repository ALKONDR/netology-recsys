{
 "cells": [
  {
   "cell_type": "code",
   "execution_count": 17,
   "metadata": {},
   "outputs": [],
   "source": [
    "import pandas as pd\n",
    "import numpy as np\n",
    "\n",
    "from tqdm import tqdm_notebook"
   ]
  },
  {
   "cell_type": "code",
   "execution_count": 4,
   "metadata": {},
   "outputs": [],
   "source": [
    "movies = pd.read_csv('../lecture-1/movies.csv')\n",
    "ratings = pd.read_csv('../lecture-1/ratings.csv')"
   ]
  },
  {
   "cell_type": "code",
   "execution_count": 10,
   "metadata": {},
   "outputs": [],
   "source": [
    "movies_with_ratings = movies.join(ratings.set_index('movieId'), on='movieId').reset_index(drop=True)\n",
    "movies_with_ratings.dropna(inplace=True)"
   ]
  },
  {
   "cell_type": "code",
   "execution_count": 11,
   "metadata": {},
   "outputs": [
    {
     "data": {
      "text/html": [
       "<div>\n",
       "<style scoped>\n",
       "    .dataframe tbody tr th:only-of-type {\n",
       "        vertical-align: middle;\n",
       "    }\n",
       "\n",
       "    .dataframe tbody tr th {\n",
       "        vertical-align: top;\n",
       "    }\n",
       "\n",
       "    .dataframe thead th {\n",
       "        text-align: right;\n",
       "    }\n",
       "</style>\n",
       "<table border=\"1\" class=\"dataframe\">\n",
       "  <thead>\n",
       "    <tr style=\"text-align: right;\">\n",
       "      <th></th>\n",
       "      <th>movieId</th>\n",
       "      <th>title</th>\n",
       "      <th>genres</th>\n",
       "      <th>userId</th>\n",
       "      <th>rating</th>\n",
       "      <th>timestamp</th>\n",
       "    </tr>\n",
       "  </thead>\n",
       "  <tbody>\n",
       "    <tr>\n",
       "      <th>0</th>\n",
       "      <td>1</td>\n",
       "      <td>Toy Story (1995)</td>\n",
       "      <td>Adventure|Animation|Children|Comedy|Fantasy</td>\n",
       "      <td>1.0</td>\n",
       "      <td>4.0</td>\n",
       "      <td>9.649827e+08</td>\n",
       "    </tr>\n",
       "    <tr>\n",
       "      <th>1</th>\n",
       "      <td>1</td>\n",
       "      <td>Toy Story (1995)</td>\n",
       "      <td>Adventure|Animation|Children|Comedy|Fantasy</td>\n",
       "      <td>5.0</td>\n",
       "      <td>4.0</td>\n",
       "      <td>8.474350e+08</td>\n",
       "    </tr>\n",
       "    <tr>\n",
       "      <th>2</th>\n",
       "      <td>1</td>\n",
       "      <td>Toy Story (1995)</td>\n",
       "      <td>Adventure|Animation|Children|Comedy|Fantasy</td>\n",
       "      <td>7.0</td>\n",
       "      <td>4.5</td>\n",
       "      <td>1.106636e+09</td>\n",
       "    </tr>\n",
       "    <tr>\n",
       "      <th>3</th>\n",
       "      <td>1</td>\n",
       "      <td>Toy Story (1995)</td>\n",
       "      <td>Adventure|Animation|Children|Comedy|Fantasy</td>\n",
       "      <td>15.0</td>\n",
       "      <td>2.5</td>\n",
       "      <td>1.510578e+09</td>\n",
       "    </tr>\n",
       "    <tr>\n",
       "      <th>4</th>\n",
       "      <td>1</td>\n",
       "      <td>Toy Story (1995)</td>\n",
       "      <td>Adventure|Animation|Children|Comedy|Fantasy</td>\n",
       "      <td>17.0</td>\n",
       "      <td>4.5</td>\n",
       "      <td>1.305696e+09</td>\n",
       "    </tr>\n",
       "  </tbody>\n",
       "</table>\n",
       "</div>"
      ],
      "text/plain": [
       "   movieId             title                                       genres  \\\n",
       "0        1  Toy Story (1995)  Adventure|Animation|Children|Comedy|Fantasy   \n",
       "1        1  Toy Story (1995)  Adventure|Animation|Children|Comedy|Fantasy   \n",
       "2        1  Toy Story (1995)  Adventure|Animation|Children|Comedy|Fantasy   \n",
       "3        1  Toy Story (1995)  Adventure|Animation|Children|Comedy|Fantasy   \n",
       "4        1  Toy Story (1995)  Adventure|Animation|Children|Comedy|Fantasy   \n",
       "\n",
       "   userId  rating     timestamp  \n",
       "0     1.0     4.0  9.649827e+08  \n",
       "1     5.0     4.0  8.474350e+08  \n",
       "2     7.0     4.5  1.106636e+09  \n",
       "3    15.0     2.5  1.510578e+09  \n",
       "4    17.0     4.5  1.305696e+09  "
      ]
     },
     "execution_count": 11,
     "metadata": {},
     "output_type": "execute_result"
    }
   ],
   "source": [
    "movies_with_ratings.head()"
   ]
  },
  {
   "cell_type": "code",
   "execution_count": 18,
   "metadata": {},
   "outputs": [],
   "source": [
    "num_users = movies_with_ratings.userId.unique().shape[0]"
   ]
  },
  {
   "cell_type": "code",
   "execution_count": 26,
   "metadata": {
    "scrolled": true
   },
   "outputs": [
    {
     "data": {
      "application/vnd.jupyter.widget-view+json": {
       "model_id": "a7e1b56687704ef384f00c4c4427aca3",
       "version_major": 2,
       "version_minor": 0
      },
      "text/html": [
       "<p>Failed to display Jupyter Widget of type <code>HBox</code>.</p>\n",
       "<p>\n",
       "  If you're reading this message in the Jupyter Notebook or JupyterLab Notebook, it may mean\n",
       "  that the widgets JavaScript is still loading. If this message persists, it\n",
       "  likely means that the widgets JavaScript library is either not installed or\n",
       "  not enabled. See the <a href=\"https://ipywidgets.readthedocs.io/en/stable/user_install.html\">Jupyter\n",
       "  Widgets Documentation</a> for setup instructions.\n",
       "</p>\n",
       "<p>\n",
       "  If you're reading this message in another frontend (for example, a static\n",
       "  rendering on GitHub or <a href=\"https://nbviewer.jupyter.org/\">NBViewer</a>),\n",
       "  it may mean that your frontend doesn't currently support widgets.\n",
       "</p>\n"
      ],
      "text/plain": [
       "HBox(children=(IntProgress(value=0, max=9719), HTML(value='')))"
      ]
     },
     "metadata": {},
     "output_type": "display_data"
    },
    {
     "name": "stdout",
     "output_type": "stream",
     "text": [
      "\n"
     ]
    }
   ],
   "source": [
    "movie_vector = {}\n",
    "\n",
    "for movie, group in tqdm_notebook(movies_with_ratings.groupby('title')):\n",
    "    movie_vector[movie] = np.zeros(num_users)\n",
    "    \n",
    "    for i in range(len(group.userId.values)):\n",
    "        u = group.userId.values[i]\n",
    "        r = group.rating.values[i]\n",
    "        movie_vector[movie][int(u - 1)] = r"
   ]
  },
  {
   "cell_type": "code",
   "execution_count": 27,
   "metadata": {},
   "outputs": [
    {
     "data": {
      "text/plain": [
       "array([4. , 0. , 0. , 0. , 4. , 0. , 4.5, 0. , 0. , 0. , 0. , 0. , 0. ,\n",
       "       0. , 2.5, 0. , 4.5, 3.5, 4. , 0. , 3.5, 0. , 0. , 0. , 0. , 0. ,\n",
       "       3. , 0. , 0. , 0. , 5. , 3. , 3. , 0. , 0. , 0. , 0. , 0. , 0. ,\n",
       "       5. , 0. , 0. , 5. , 3. , 4. , 5. , 0. , 0. , 0. , 3. , 0. , 0. ,\n",
       "       0. , 3. , 0. , 0. , 5. , 0. , 0. , 0. , 0. , 0. , 5. , 4. , 0. ,\n",
       "       4. , 0. , 2.5, 0. , 0. , 5. , 0. , 4.5, 0. , 0. , 0.5, 0. , 4. ,\n",
       "       0. , 0. , 0. , 2.5, 0. , 0. , 0. , 4. , 0. , 0. , 3. , 3. , 4. ,\n",
       "       0. , 3. , 0. , 0. , 5. , 0. , 4.5, 0. , 0. , 0. , 0. , 4. , 0. ,\n",
       "       0. , 0. , 4. , 0. , 0. , 0. , 0. , 3. , 0. , 0. , 0. , 0. , 0. ,\n",
       "       0. , 3.5, 0. , 4. , 0. , 0. , 4. , 0. , 0. , 0. , 0. , 0. , 3. ,\n",
       "       0. , 2. , 0. , 3. , 4. , 0. , 4. , 0. , 0. , 3. , 4. , 0. , 0. ,\n",
       "       3.5, 5. , 0. , 0. , 0. , 0. , 0. , 5. , 0. , 2. , 0. , 3. , 4. ,\n",
       "       0. , 0. , 4.5, 4. , 4. , 0. , 0. , 0. , 0. , 5. , 3.5, 0. , 4.5,\n",
       "       0. , 5. , 0. , 0. , 0. , 0. , 0. , 5. , 4. , 4. , 0. , 0. , 4. ,\n",
       "       0. , 0. , 4. , 4. , 0. , 0. , 0. , 0. , 4. , 0. , 2. , 0. , 0. ,\n",
       "       0. , 0. , 0. , 0. , 3.5, 5. , 4. , 0. , 0. , 0. , 5. , 0. , 0. ,\n",
       "       0. , 0. , 0. , 0. , 3.5, 3. , 0. , 3. , 4. , 0. , 3.5, 5. , 0. ,\n",
       "       0. , 3.5, 0. , 0. , 3.5, 0. , 0. , 5. , 0. , 0. , 3.5, 3. , 5. ,\n",
       "       0. , 0. , 0. , 0. , 4. , 5. , 0. , 0. , 0. , 0. , 0. , 0. , 5. ,\n",
       "       0. , 4. , 0. , 0. , 4.5, 0. , 4.5, 0. , 0. , 0. , 0. , 0. , 0. ,\n",
       "       0. , 0. , 4. , 4. , 0. , 2. , 0. , 0. , 5. , 5. , 0. , 0. , 5. ,\n",
       "       4. , 5. , 4. , 4. , 0. , 3. , 4.5, 0. , 4.5, 3. , 0. , 0. , 0. ,\n",
       "       0. , 4.5, 0. , 4. , 4. , 4. , 3. , 0. , 0. , 0. , 0. , 2. , 0. ,\n",
       "       0. , 0. , 0. , 0. , 5. , 0. , 0. , 4. , 0. , 0. , 0. , 0. , 0. ,\n",
       "       0. , 3. , 0. , 0. , 0. , 0. , 0. , 0. , 0. , 3.5, 3.5, 0. , 0. ,\n",
       "       0. , 0. , 5. , 0. , 4. , 0. , 4. , 0. , 3.5, 0. , 4. , 4. , 0. ,\n",
       "       4. , 0. , 5. , 0. , 0. , 0. , 0. , 0. , 5. , 0. , 0. , 4. , 0. ,\n",
       "       0. , 5. , 0. , 0. , 0. , 5. , 0. , 4. , 0. , 0. , 0. , 0. , 5. ,\n",
       "       0. , 0. , 5. , 0. , 0. , 0. , 0. , 3. , 3. , 0. , 0. , 0. , 0. ,\n",
       "       4.5, 0. , 5. , 3.5, 4.5, 0. , 0. , 4. , 0. , 0. , 0. , 5. , 0. ,\n",
       "       3. , 0. , 0. , 0. , 0. , 5. , 0. , 0. , 4. , 0. , 3.5, 0. , 0. ,\n",
       "       0. , 0. , 0. , 0. , 0. , 0. , 0. , 5. , 2. , 0. , 4. , 0. , 0. ,\n",
       "       0. , 0. , 0. , 4. , 0. , 4. , 0. , 0. , 0. , 0. , 0. , 0. , 0. ,\n",
       "       0. , 0. , 2.5, 0. , 4. , 0. , 4. , 0. , 4.5, 0. , 0. , 0. , 0. ,\n",
       "       4. , 0. , 0. , 0. , 0. , 5. , 0. , 0. , 5. , 0. , 5. , 0. , 0. ,\n",
       "       5. , 0. , 0. , 0. , 4.5, 0. , 1.5, 0. , 0. , 0. , 0. , 0. , 4. ,\n",
       "       4. , 4. , 5. , 0. , 0. , 4. , 0. , 4. , 4. , 0. , 0. , 3. , 0. ,\n",
       "       0. , 4. , 4.5, 0. , 0. , 0. , 4.5, 0. , 3.5, 0. , 4. , 0. , 0. ,\n",
       "       0. , 0. , 0. , 0. , 0. , 4. , 0. , 0. , 0. , 4. , 0. , 0. , 0. ,\n",
       "       0. , 4. , 0. , 0. , 0. , 0. , 4. , 0. , 0. , 4. , 0. , 0. , 0. ,\n",
       "       0. , 3. , 0. , 4. , 4. , 0. , 0. , 2.5, 3. , 0. , 0. , 0. , 5. ,\n",
       "       4. , 0. , 0. , 0. , 0. , 0. , 0. , 3. , 0. , 0. , 3. , 0. , 0. ,\n",
       "       0. , 0. , 0. , 4. , 0. , 0. , 0. , 0. , 4. , 0. , 0. , 0. , 5. ,\n",
       "       3. , 4. , 4.5, 0. , 0. , 0. , 0. , 3.5, 0. , 0. , 4. , 0. , 4. ,\n",
       "       5. , 0. , 0. , 0. , 0. , 0. , 4. , 3. , 0. , 0. , 0. , 5. , 0. ,\n",
       "       0. , 5. , 0. , 0. , 4. , 0. , 0. , 0. , 0. , 0. , 4. , 4. , 0. ,\n",
       "       3. , 2.5, 4. , 0. , 4. , 3. , 4. , 2.5, 4. , 2.5, 3. , 5. ])"
      ]
     },
     "execution_count": 27,
     "metadata": {},
     "output_type": "execute_result"
    }
   ],
   "source": [
    "movie_vector['Toy Story (1995)']"
   ]
  },
  {
   "cell_type": "code",
   "execution_count": 37,
   "metadata": {},
   "outputs": [],
   "source": [
    "from scipy.spatial.distance import cityblock, cosine, euclidean, hamming, jaccard, rogerstanimoto, correlation"
   ]
  },
  {
   "cell_type": "code",
   "execution_count": 40,
   "metadata": {},
   "outputs": [
    {
     "data": {
      "application/vnd.jupyter.widget-view+json": {
       "model_id": "019f8445c796489981d34ea6452f420d",
       "version_major": 2,
       "version_minor": 0
      },
      "text/html": [
       "<p>Failed to display Jupyter Widget of type <code>HBox</code>.</p>\n",
       "<p>\n",
       "  If you're reading this message in the Jupyter Notebook or JupyterLab Notebook, it may mean\n",
       "  that the widgets JavaScript is still loading. If this message persists, it\n",
       "  likely means that the widgets JavaScript library is either not installed or\n",
       "  not enabled. See the <a href=\"https://ipywidgets.readthedocs.io/en/stable/user_install.html\">Jupyter\n",
       "  Widgets Documentation</a> for setup instructions.\n",
       "</p>\n",
       "<p>\n",
       "  If you're reading this message in another frontend (for example, a static\n",
       "  rendering on GitHub or <a href=\"https://nbviewer.jupyter.org/\">NBViewer</a>),\n",
       "  it may mean that your frontend doesn't currently support widgets.\n",
       "</p>\n"
      ],
      "text/plain": [
       "HBox(children=(IntProgress(value=0, max=9719), HTML(value='')))"
      ]
     },
     "metadata": {},
     "output_type": "display_data"
    },
    {
     "name": "stdout",
     "output_type": "stream",
     "text": [
      "\n",
      "('Matrix, The (1999)', 0.461785637779797)\n",
      "('Memento (2000)', 0.46277036445237296)\n",
      "('American History X (1998)', 0.4698485700562477)\n",
      "('Kill Bill: Vol. 1 (2003)', 0.48208819852069573)\n",
      "('Kill Bill: Vol. 2 (2004)', 0.49550594983117513)\n",
      "('Inception (2010)', 0.5253368759258412)\n",
      "('Departed, The (2006)', 0.5312318420920308)\n",
      "('Eternal Sunshine of the Spotless Mind (2004)', 0.5323396310804864)\n",
      "('Reservoir Dogs (1992)', 0.5358995135923637)\n",
      "('Lord of the Rings: The Fellowship of the Ring, The (2001)', 0.5396526638176289)\n"
     ]
    }
   ],
   "source": [
    "my_fav_film = 'Fight Club (1999)'\n",
    "\n",
    "titles = []\n",
    "distances = []\n",
    "\n",
    "for key in tqdm_notebook(movie_vector.keys()):\n",
    "    if key == my_fav_film:\n",
    "        continue\n",
    "    \n",
    "    titles.append(key)\n",
    "    distances.append(correlation(movie_vector[my_fav_film], movie_vector[key]))\n",
    "\n",
    "best_indexes = np.argsort(distances)[:10]\n",
    "best_movies = [(titles[i], distances[i]) for i in best_indexes]\n",
    "\n",
    "for m in best_movies:\n",
    "    print(m)"
   ]
  },
  {
   "cell_type": "code",
   "execution_count": null,
   "metadata": {},
   "outputs": [],
   "source": []
  }
 ],
 "metadata": {
  "kernelspec": {
   "display_name": "Python 3",
   "language": "python",
   "name": "python3"
  },
  "language_info": {
   "codemirror_mode": {
    "name": "ipython",
    "version": 3
   },
   "file_extension": ".py",
   "mimetype": "text/x-python",
   "name": "python",
   "nbconvert_exporter": "python",
   "pygments_lexer": "ipython3",
   "version": "3.6.4"
  }
 },
 "nbformat": 4,
 "nbformat_minor": 2
}
